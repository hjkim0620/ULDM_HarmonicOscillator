{
 "cells": [
  {
   "cell_type": "code",
   "execution_count": 83,
   "id": "1cd811b7",
   "metadata": {},
   "outputs": [],
   "source": [
    "import os\n",
    "import h5py\n",
    "import scipy\n",
    "import timeit\n",
    "import pyfftw\n",
    "import numpy as np \n",
    "import matplotlib.pyplot as plt  \n",
    "import matplotlib.ticker as mticker\n",
    "\n",
    "from scipy.fft import fftfreq, fftn, ifftn\n",
    "from matplotlib import animation\n",
    "from scipy.special import k0, k1\n",
    "from tqdm.notebook import tqdm\n",
    "from scipy.interpolate import RegularGridInterpolator\n",
    "from matplotlib.animation import FuncAnimation \n",
    "from matplotlib.animation import PillowWriter\n",
    "from matplotlib.animation import FFMpegWriter\n",
    "\n",
    "plt.rcParams['text.usetex'] = True"
   ]
  },
  {
   "cell_type": "code",
   "execution_count": 73,
   "id": "282a0c11",
   "metadata": {},
   "outputs": [],
   "source": [
    "class ULDM_Simulator():\n",
    "    def __init__(self, dist='Iso_Gaussian', L=5, N=64, eps=1e-5):\n",
    "        '''\n",
    "        dist(str)       : distribution type\n",
    "        L   (scalar)    : Length of the box\n",
    "        N   (scalar)    : Number of grid points in each dimension\n",
    "        eps (scalar)    : 4 pi G m^2 rho / sigma_k^4; related to Jeans wavelength\n",
    "        '''\n",
    "        self.eps = eps  \n",
    "\n",
    "        self.set_grid(L, N)\n",
    "        self.set_steps()\n",
    "    \n",
    "        self.f = self.set_distribution(dist)    \n",
    "        self.set_initial_wavefunction()\n",
    "    \n",
    "    def set_grid(self, L, N):\n",
    "        '''\n",
    "        L (scalar): Length of the box\n",
    "        N (scalar): Number of grid points in each dimension\n",
    "        '''\n",
    "\n",
    "        self.N = N \n",
    "        self.L = L\n",
    "        self.dx = L/N\n",
    "\n",
    "        # Set up the spatial grid\n",
    "        self.X, self.Y, self.Z = np.meshgrid(\n",
    "            np.linspace(-L/2, L/2, N),\n",
    "            np.linspace(-L/2, L/2, N),\n",
    "            np.linspace(-L/2, L/2, N),\n",
    "            indexing='ij'\n",
    "        )\n",
    "\n",
    "        # Set up the Fourier grid\n",
    "        self.KX, self.KY, self.KZ = np.meshgrid(\n",
    "            fftfreq(self.N, self.dx) * 2 * np.pi, \n",
    "            fftfreq(self.N, self.dx) * 2 * np.pi, \n",
    "            fftfreq(self.N, self.dx) * 2 * np.pi,\n",
    "            indexing='ij'\n",
    "        )\n",
    "\n",
    "        # 1 / k^2\n",
    "        self.K2 = self.KX**2 + self.KY**2 + self.KZ**2\n",
    "        self.invK2 = np.divide(1, self.K2, out=np.zeros((self.N, self.N, self.N)), where=(self.K2 !=0))\n",
    "    \n",
    "    def set_steps(self):\n",
    "        self.T = self.L**2 / np.pi\n",
    "        self.nt = self.N**2\n",
    "        self.dt = self.T / self.nt\n",
    "\n",
    "        self.time = np.arange(0, self.T, self.dt)\n",
    "\n",
    "    def set_distribution(self, dist='Iso_Gaussian'):\n",
    "        '''\n",
    "        dist (str): Distribution type\n",
    "        '''\n",
    "        if dist == 'Iso_Gaussian':\n",
    "            return lambda k: (2*np.pi)**1.5*np.exp(-k**2/2)\n",
    "        \n",
    "    def set_initial_wavefunction(self):\n",
    "        self.farr = self.f(np.sqrt(self.KX**2 + self.KY**2 + self.KZ**2))\n",
    "\n",
    "        PSI = np.random.rayleigh(1)\n",
    "        PSI *= 1 / self.L**1.5\n",
    "        PSI *= np.exp(1j * 2 * np.pi * np.random.rand(self.N, self.N, self.N))\n",
    "        PSI *= np.sqrt(self.farr / 2)\n",
    "        \n",
    "        self.psi = ifftn(PSI, norm='forward')                       \n",
    "        self.rhob = self.N**(-3) * np.sum(np.abs(self.psi)**2)    # average density\n",
    "\n",
    "        self.Phi_fourier = fftn( self.eps * (np.abs(self.psi)**2 - self.rhob) ) * self.invK2\n",
    "        self.Phi = np.real(ifftn(self.Phi_fourier))\n",
    "\n",
    "    def evolve(self):\n",
    "        '''\n",
    "        Evolve field according to kick-drift-kick scheme\n",
    "        '''\n",
    "        self.psi *= np.exp(-0.5j * self.Phi * self.dt)  # kick\n",
    "        self.psi = fftn(self.psi)\n",
    "        self.psi *= np.exp(-0.5j * self.K2 * self.dt)   # drift\n",
    "        self.psi = ifftn(self.psi)\n",
    "\n",
    "        self.rhob = self.N**(-3) * np.sum(np.abs(self.psi)**2)\n",
    "\n",
    "        self.Phi_fourier = fftn( self.eps * (np.abs(self.psi)**2 - self.rhob) ) * self.invK2\n",
    "        self.Phi = np.real(ifftn(self.Phi_fourier))\n",
    "\n",
    "        self.psi *= np.exp(-0.5j * self.Phi * self.dt)  # kick\n",
    "    \n",
    "    def solve(self, save_rho=True):\n",
    "        if save_rho == True:\n",
    "            self.rho = []\n",
    "            self.drho = []\n",
    "            for i in tqdm(self.time):\n",
    "                self.rho.append((np.abs(self.psi)**2)[0,0,0])\n",
    "                self.drho.append((np.abs(self.psi)**2)[0,0,0] - self.rhob)\n",
    "                self.evolve()"
   ]
  },
  {
   "cell_type": "code",
   "execution_count": 74,
   "id": "68b68e9a",
   "metadata": {},
   "outputs": [
    {
     "data": {
      "application/vnd.jupyter.widget-view+json": {
       "model_id": "5d6ba41926d84441a87d142e00a3e3b5",
       "version_major": 2,
       "version_minor": 0
      },
      "text/plain": [
       "  0%|          | 0/4096 [00:00<?, ?it/s]"
      ]
     },
     "metadata": {},
     "output_type": "display_data"
    }
   ],
   "source": [
    "sim = ULDM_Simulator(L=8)\n",
    "sim.solve()"
   ]
  },
  {
   "cell_type": "code",
   "execution_count": 77,
   "id": "7cc79121",
   "metadata": {},
   "outputs": [
    {
     "data": {
      "text/plain": [
       "[<matplotlib.lines.Line2D at 0x13c2a6e60>]"
      ]
     },
     "execution_count": 77,
     "metadata": {},
     "output_type": "execute_result"
    },
    {
     "data": {
      "image/png": "[encoded data removed]",
      "text/plain": [
       "<Figure size 640x480 with 1 Axes>"
      ]
     },
     "metadata": {},
     "output_type": "display_data"
    }
   ],
   "source": [
    "plt.plot(sim.time, sim.rho)"
   ]
  },
  {
   "cell_type": "code",
   "execution_count": 78,
   "id": "2878457d",
   "metadata": {},
   "outputs": [
    {
     "data": {
      "image/png": "[encoded data removed]",
      "text/plain": [
       "<Figure size 640x480 with 1 Axes>"
      ]
     },
     "metadata": {},
     "output_type": "display_data"
    }
   ],
   "source": [
    "plt.plot((np.abs(fftn(sim.rho))**2)[:len(sim.rho)//2],'.')\n",
    "plt.xscale('log')\n",
    "plt.yscale('log')"
   ]
  },
  {
   "cell_type": "code",
   "execution_count": 137,
   "id": "4a88d874",
   "metadata": {},
   "outputs": [],
   "source": [
    "class ULDM_FreeParticle(ULDM_Simulator):\n",
    "    def __init__(self, dist='Iso_Gaussian', L=5, N=64, eps=1e-5):\n",
    "        super().__init__(dist=dist, L=L, N=N, eps=eps)\n",
    "        self.set_initial_kinematics()\n",
    "\n",
    "    def set_initial_kinematics(self):\n",
    "        self.grid = np.linspace(-self.L/2, self.L/2, self.N)\n",
    "\n",
    "        self.ax = np.real( ifftn( -1j * self.KX * self.Phi_fourier) )\n",
    "        self.ay = np.real( ifftn( -1j * self.KY * self.Phi_fourier) )\n",
    "        self.az = np.real( ifftn( -1j * self.KZ * self.Phi_fourier) )\n",
    "        \n",
    "        self.ax_interp = RegularGridInterpolator( (self.grid, self.grid, self.grid), self.ax, method='cubic')\n",
    "        self.ay_interp = RegularGridInterpolator( (self.grid, self.grid, self.grid), self.ay, method='cubic')\n",
    "        self.az_interp = RegularGridInterpolator( (self.grid, self.grid, self.grid), self.az, method='cubic')\n",
    "\n",
    "        self.pos = np.array([0, 0, 0])\n",
    "        self.vel = np.array([0, 0, 0])\n",
    "        \n",
    "        self.acc = np.array([self.ax_interp(self.pos), \n",
    "                             self.ay_interp(self.pos), \n",
    "                             self.az_interp(self.pos)])\n",
    "        \n",
    "    # THIS OVERRIDES evolve METHOD IN PARENT CLASS\n",
    "    def evolve(self):\n",
    "        '''\n",
    "        Evolve field according to kick-drift-kick scheme\n",
    "        Evolve particle according to drift-kick-drift (leapfrog)\n",
    "        '''\n",
    "        \n",
    "        # Initial kick - drift sequence\n",
    "        self.psi *= np.exp(-0.5j * self.Phi * self.dt)\n",
    "        self.psi = fftn(self.psi)\n",
    "        self.psi *= np.exp(-0.5j * self.K2 * self.dt)   \n",
    "        self.psi = ifftn(self.psi)\n",
    "\n",
    "        # Update Phi and acceleration\n",
    "        self.rhob = self.N**(-3) * np.sum(np.abs(self.psi)**2)\n",
    "        \n",
    "        self.Phi_fourier = fftn( self.eps * (np.abs(self.psi)**2 - self.rhob) ) * self.invK2\n",
    "        self.Phi = np.real(ifftn(self.Phi_fourier))\n",
    "        \n",
    "        self.ax = np.real( ifftn( -1j * self.KX * self.Phi_fourier) )\n",
    "        self.ay = np.real( ifftn( -1j * self.KY * self.Phi_fourier) )\n",
    "        self.az = np.real( ifftn( -1j * self.KZ * self.Phi_fourier) )\n",
    "        \n",
    "        self.ax_interp = RegularGridInterpolator( (self.grid, self.grid, self.grid), self.ax, method='cubic')\n",
    "        self.ay_interp = RegularGridInterpolator( (self.grid, self.grid, self.grid), self.ay, method='cubic')\n",
    "        self.az_interp = RegularGridInterpolator( (self.grid, self.grid, self.grid), self.az, method='cubic')\n",
    "\n",
    "        # Final kick\n",
    "        self.psi *= np.exp(-0.5j * self.Phi * self.dt)\n",
    "\n",
    "        # For free particle evolution\n",
    "        # Initial drift\n",
    "        # print(self.pos + self.dt * self.vel * 0.5)\n",
    "        self.pos = self.pos + 0.5 * self.vel * self.dt \n",
    "        self.acc = np.array([self.ax_interp(self.pos), \n",
    "                             self.ay_interp(self.pos), \n",
    "                             self.az_interp(self.pos)])\n",
    "        self.vel = self.vel + self.acc * self.dt\n",
    "        self.pos = self.pos + 0.5 * self.vel * self.dt\n",
    "\n",
    "    # THIS OVERRIDES solve METHOD IN PARENT CLASS\n",
    "    def solve(self, save=True):\n",
    "        if save == True:\n",
    "            self.rho = []\n",
    "            self.pos_arr = []\n",
    "            self.vel_arr = []\n",
    "            self.acc_arr = []\n",
    "\n",
    "            for i in tqdm(self.time):\n",
    "                self.rho.append((np.abs(self.psi)**2)[0,0,0])\n",
    "                self.pos_arr.append(self.pos)\n",
    "                self.vel_arr.append(self.vel)\n",
    "                self.acc_arr.append(self.acc)\n",
    "                self.evolve()\n"
   ]
  },
  {
   "cell_type": "code",
   "execution_count": 138,
   "id": "245b64bd",
   "metadata": {},
   "outputs": [],
   "source": [
    "sim_FP = ULDM_FreeParticle()"
   ]
  },
  {
   "cell_type": "code",
   "execution_count": 139,
   "id": "366b2ec3",
   "metadata": {},
   "outputs": [
    {
     "data": {
      "application/vnd.jupyter.widget-view+json": {
       "model_id": "2f725f62d92048629f90be6670e4ef74",
       "version_major": 2,
       "version_minor": 0
      },
      "text/plain": [
       "  0%|          | 0/4096 [00:00<?, ?it/s]"
      ]
     },
     "metadata": {},
     "output_type": "display_data"
    },
    {
     "ename": "KeyboardInterrupt",
     "evalue": "",
     "output_type": "error",
     "traceback": [
      "\u001b[0;31m---------------------------------------------------------------------------\u001b[0m",
      "\u001b[0;31mKeyboardInterrupt\u001b[0m                         Traceback (most recent call last)",
      "Cell \u001b[0;32mIn[139], line 1\u001b[0m\n\u001b[0;32m----> 1\u001b[0m \u001b[43msim_FP\u001b[49m\u001b[38;5;241;43m.\u001b[39;49m\u001b[43msolve\u001b[49m\u001b[43m(\u001b[49m\u001b[43m)\u001b[49m\n",
      "Cell \u001b[0;32mIn[137], line 77\u001b[0m, in \u001b[0;36mULDM_FreeParticle.solve\u001b[0;34m(self, save)\u001b[0m\n\u001b[1;32m     75\u001b[0m \u001b[38;5;28mself\u001b[39m\u001b[38;5;241m.\u001b[39mvel_arr\u001b[38;5;241m.\u001b[39mappend(\u001b[38;5;28mself\u001b[39m\u001b[38;5;241m.\u001b[39mvel)\n\u001b[1;32m     76\u001b[0m \u001b[38;5;28mself\u001b[39m\u001b[38;5;241m.\u001b[39macc_arr\u001b[38;5;241m.\u001b[39mappend(\u001b[38;5;28mself\u001b[39m\u001b[38;5;241m.\u001b[39macc)\n\u001b[0;32m---> 77\u001b[0m \u001b[38;5;28;43mself\u001b[39;49m\u001b[38;5;241;43m.\u001b[39;49m\u001b[43mevolve\u001b[49m\u001b[43m(\u001b[49m\u001b[43m)\u001b[49m\n",
      "Cell \u001b[0;32mIn[137], line 49\u001b[0m, in \u001b[0;36mULDM_FreeParticle.evolve\u001b[0;34m(self)\u001b[0m\n\u001b[1;32m     47\u001b[0m \u001b[38;5;28mself\u001b[39m\u001b[38;5;241m.\u001b[39max_interp \u001b[38;5;241m=\u001b[39m RegularGridInterpolator( (\u001b[38;5;28mself\u001b[39m\u001b[38;5;241m.\u001b[39mgrid, \u001b[38;5;28mself\u001b[39m\u001b[38;5;241m.\u001b[39mgrid, \u001b[38;5;28mself\u001b[39m\u001b[38;5;241m.\u001b[39mgrid), \u001b[38;5;28mself\u001b[39m\u001b[38;5;241m.\u001b[39max, method\u001b[38;5;241m=\u001b[39m\u001b[38;5;124m'\u001b[39m\u001b[38;5;124mcubic\u001b[39m\u001b[38;5;124m'\u001b[39m)\n\u001b[1;32m     48\u001b[0m \u001b[38;5;28mself\u001b[39m\u001b[38;5;241m.\u001b[39may_interp \u001b[38;5;241m=\u001b[39m RegularGridInterpolator( (\u001b[38;5;28mself\u001b[39m\u001b[38;5;241m.\u001b[39mgrid, \u001b[38;5;28mself\u001b[39m\u001b[38;5;241m.\u001b[39mgrid, \u001b[38;5;28mself\u001b[39m\u001b[38;5;241m.\u001b[39mgrid), \u001b[38;5;28mself\u001b[39m\u001b[38;5;241m.\u001b[39may, method\u001b[38;5;241m=\u001b[39m\u001b[38;5;124m'\u001b[39m\u001b[38;5;124mcubic\u001b[39m\u001b[38;5;124m'\u001b[39m)\n\u001b[0;32m---> 49\u001b[0m \u001b[38;5;28mself\u001b[39m\u001b[38;5;241m.\u001b[39maz_interp \u001b[38;5;241m=\u001b[39m \u001b[43mRegularGridInterpolator\u001b[49m\u001b[43m(\u001b[49m\u001b[43m \u001b[49m\u001b[43m(\u001b[49m\u001b[38;5;28;43mself\u001b[39;49m\u001b[38;5;241;43m.\u001b[39;49m\u001b[43mgrid\u001b[49m\u001b[43m,\u001b[49m\u001b[43m \u001b[49m\u001b[38;5;28;43mself\u001b[39;49m\u001b[38;5;241;43m.\u001b[39;49m\u001b[43mgrid\u001b[49m\u001b[43m,\u001b[49m\u001b[43m \u001b[49m\u001b[38;5;28;43mself\u001b[39;49m\u001b[38;5;241;43m.\u001b[39;49m\u001b[43mgrid\u001b[49m\u001b[43m)\u001b[49m\u001b[43m,\u001b[49m\u001b[43m \u001b[49m\u001b[38;5;28;43mself\u001b[39;49m\u001b[38;5;241;43m.\u001b[39;49m\u001b[43maz\u001b[49m\u001b[43m,\u001b[49m\u001b[43m \u001b[49m\u001b[43mmethod\u001b[49m\u001b[38;5;241;43m=\u001b[39;49m\u001b[38;5;124;43m'\u001b[39;49m\u001b[38;5;124;43mcubic\u001b[39;49m\u001b[38;5;124;43m'\u001b[39;49m\u001b[43m)\u001b[49m\n\u001b[1;32m     51\u001b[0m \u001b[38;5;66;03m# Final kick\u001b[39;00m\n\u001b[1;32m     52\u001b[0m \u001b[38;5;28mself\u001b[39m\u001b[38;5;241m.\u001b[39mpsi \u001b[38;5;241m*\u001b[39m\u001b[38;5;241m=\u001b[39m np\u001b[38;5;241m.\u001b[39mexp(\u001b[38;5;241m-\u001b[39m\u001b[38;5;241m0.5\u001b[39mj \u001b[38;5;241m*\u001b[39m \u001b[38;5;28mself\u001b[39m\u001b[38;5;241m.\u001b[39mPhi \u001b[38;5;241m*\u001b[39m \u001b[38;5;28mself\u001b[39m\u001b[38;5;241m.\u001b[39mdt)\n",
      "File \u001b[0;32m/Library/Frameworks/Python.framework/Versions/3.10/lib/python3.10/site-packages/scipy/interpolate/_rgi.py:290\u001b[0m, in \u001b[0;36mRegularGridInterpolator.__init__\u001b[0;34m(self, points, values, method, bounds_error, fill_value, solver, solver_args)\u001b[0m\n\u001b[1;32m    288\u001b[0m     \u001b[38;5;28;01mif\u001b[39;00m solver_args \u001b[38;5;129;01mis\u001b[39;00m \u001b[38;5;28;01mNone\u001b[39;00m:\n\u001b[1;32m    289\u001b[0m         solver_args \u001b[38;5;241m=\u001b[39m {}\n\u001b[0;32m--> 290\u001b[0m     \u001b[38;5;28mself\u001b[39m\u001b[38;5;241m.\u001b[39m_spline \u001b[38;5;241m=\u001b[39m \u001b[38;5;28;43mself\u001b[39;49m\u001b[38;5;241;43m.\u001b[39;49m\u001b[43m_construct_spline\u001b[49m\u001b[43m(\u001b[49m\u001b[43mmethod\u001b[49m\u001b[43m,\u001b[49m\u001b[43m \u001b[49m\u001b[43msolver\u001b[49m\u001b[43m,\u001b[49m\u001b[43m \u001b[49m\u001b[38;5;241;43m*\u001b[39;49m\u001b[38;5;241;43m*\u001b[39;49m\u001b[43msolver_args\u001b[49m\u001b[43m)\u001b[49m\n\u001b[1;32m    291\u001b[0m \u001b[38;5;28;01melse\u001b[39;00m:\n\u001b[1;32m    292\u001b[0m     \u001b[38;5;28;01mif\u001b[39;00m solver \u001b[38;5;129;01mis\u001b[39;00m \u001b[38;5;129;01mnot\u001b[39;00m \u001b[38;5;28;01mNone\u001b[39;00m \u001b[38;5;129;01mor\u001b[39;00m solver_args:\n",
      "File \u001b[0;32m/Library/Frameworks/Python.framework/Versions/3.10/lib/python3.10/site-packages/scipy/interpolate/_rgi.py:301\u001b[0m, in \u001b[0;36mRegularGridInterpolator._construct_spline\u001b[0;34m(self, method, solver, **solver_args)\u001b[0m\n\u001b[1;32m    299\u001b[0m \u001b[38;5;28;01mif\u001b[39;00m solver \u001b[38;5;129;01mis\u001b[39;00m \u001b[38;5;28;01mNone\u001b[39;00m:\n\u001b[1;32m    300\u001b[0m     solver \u001b[38;5;241m=\u001b[39m ssl\u001b[38;5;241m.\u001b[39mgcrotmk\n\u001b[0;32m--> 301\u001b[0m spl \u001b[38;5;241m=\u001b[39m \u001b[43mmake_ndbspl\u001b[49m\u001b[43m(\u001b[49m\n\u001b[1;32m    302\u001b[0m \u001b[43m        \u001b[49m\u001b[38;5;28;43mself\u001b[39;49m\u001b[38;5;241;43m.\u001b[39;49m\u001b[43mgrid\u001b[49m\u001b[43m,\u001b[49m\u001b[43m \u001b[49m\u001b[38;5;28;43mself\u001b[39;49m\u001b[38;5;241;43m.\u001b[39;49m\u001b[43mvalues\u001b[49m\u001b[43m,\u001b[49m\u001b[43m \u001b[49m\u001b[38;5;28;43mself\u001b[39;49m\u001b[38;5;241;43m.\u001b[39;49m\u001b[43m_SPLINE_DEGREE_MAP\u001b[49m\u001b[43m[\u001b[49m\u001b[43mmethod\u001b[49m\u001b[43m]\u001b[49m\u001b[43m,\u001b[49m\n\u001b[1;32m    303\u001b[0m \u001b[43m        \u001b[49m\u001b[43msolver\u001b[49m\u001b[38;5;241;43m=\u001b[39;49m\u001b[43msolver\u001b[49m\u001b[43m,\u001b[49m\u001b[43m \u001b[49m\u001b[38;5;241;43m*\u001b[39;49m\u001b[38;5;241;43m*\u001b[39;49m\u001b[43msolver_args\u001b[49m\n\u001b[1;32m    304\u001b[0m \u001b[43m      \u001b[49m\u001b[43m)\u001b[49m\n\u001b[1;32m    305\u001b[0m \u001b[38;5;28;01mreturn\u001b[39;00m spl\n",
      "File \u001b[0;32m/Library/Frameworks/Python.framework/Versions/3.10/lib/python3.10/site-packages/scipy/interpolate/_ndbspline.py:402\u001b[0m, in \u001b[0;36mmake_ndbspl\u001b[0;34m(points, values, k, solver, **solver_args)\u001b[0m\n\u001b[1;32m    399\u001b[0m xvals \u001b[38;5;241m=\u001b[39m np\u001b[38;5;241m.\u001b[39masarray([xv \u001b[38;5;28;01mfor\u001b[39;00m xv \u001b[38;5;129;01min\u001b[39;00m itertools\u001b[38;5;241m.\u001b[39mproduct(\u001b[38;5;241m*\u001b[39mpoints)], dtype\u001b[38;5;241m=\u001b[39m\u001b[38;5;28mfloat\u001b[39m)\n\u001b[1;32m    401\u001b[0m \u001b[38;5;66;03m# construct the colocation matrix\u001b[39;00m\n\u001b[0;32m--> 402\u001b[0m matr \u001b[38;5;241m=\u001b[39m \u001b[43mNdBSpline\u001b[49m\u001b[38;5;241;43m.\u001b[39;49m\u001b[43mdesign_matrix\u001b[49m\u001b[43m(\u001b[49m\u001b[43mxvals\u001b[49m\u001b[43m,\u001b[49m\u001b[43m \u001b[49m\u001b[43mt\u001b[49m\u001b[43m,\u001b[49m\u001b[43m \u001b[49m\u001b[43mk\u001b[49m\u001b[43m)\u001b[49m\n\u001b[1;32m    404\u001b[0m \u001b[38;5;66;03m# Solve for the coefficients given `values`.\u001b[39;00m\n\u001b[1;32m    405\u001b[0m \u001b[38;5;66;03m# Trailing dimensions: first ndim dimensions are data, the rest are batch\u001b[39;00m\n\u001b[1;32m    406\u001b[0m \u001b[38;5;66;03m# dimensions, so stack `values` into a 2D array for `spsolve` to undestand.\u001b[39;00m\n\u001b[1;32m    407\u001b[0m v_shape \u001b[38;5;241m=\u001b[39m values\u001b[38;5;241m.\u001b[39mshape\n",
      "File \u001b[0;32m/Library/Frameworks/Python.framework/Versions/3.10/lib/python3.10/site-packages/scipy/interpolate/_ndbspline.py:241\u001b[0m, in \u001b[0;36mNdBSpline.design_matrix\u001b[0;34m(cls, xvals, t, k, extrapolate)\u001b[0m\n\u001b[1;32m    238\u001b[0m cstrides \u001b[38;5;241m=\u001b[39m np\u001b[38;5;241m.\u001b[39mcumprod(cs[::\u001b[38;5;241m-\u001b[39m\u001b[38;5;241m1\u001b[39m], dtype\u001b[38;5;241m=\u001b[39mnp\u001b[38;5;241m.\u001b[39mintp)[::\u001b[38;5;241m-\u001b[39m\u001b[38;5;241m1\u001b[39m]\u001b[38;5;241m.\u001b[39mcopy()\n\u001b[1;32m    240\u001b[0m \u001b[38;5;66;03m# heavy lifting happens here\u001b[39;00m\n\u001b[0;32m--> 241\u001b[0m data, indices, indptr \u001b[38;5;241m=\u001b[39m \u001b[43m_bspl\u001b[49m\u001b[38;5;241;43m.\u001b[39;49m\u001b[43m_colloc_nd\u001b[49m\u001b[43m(\u001b[49m\u001b[43mxvals\u001b[49m\u001b[43m,\u001b[49m\n\u001b[1;32m    242\u001b[0m \u001b[43m                                        \u001b[49m\u001b[43m_t\u001b[49m\u001b[43m,\u001b[49m\n\u001b[1;32m    243\u001b[0m \u001b[43m                                        \u001b[49m\u001b[43mlen_t\u001b[49m\u001b[43m,\u001b[49m\n\u001b[1;32m    244\u001b[0m \u001b[43m                                        \u001b[49m\u001b[43mk\u001b[49m\u001b[43m,\u001b[49m\n\u001b[1;32m    245\u001b[0m \u001b[43m                                        \u001b[49m\u001b[43m_indices_k1d\u001b[49m\u001b[43m,\u001b[49m\n\u001b[1;32m    246\u001b[0m \u001b[43m                                        \u001b[49m\u001b[43mcstrides\u001b[49m\u001b[43m)\u001b[49m\n\u001b[1;32m    247\u001b[0m \u001b[38;5;28;01mreturn\u001b[39;00m csr_array((data, indices, indptr))\n",
      "\u001b[0;31mKeyboardInterrupt\u001b[0m: "
     ]
    }
   ],
   "source": [
    "sim_FP.solve()"
   ]
  },
  {
   "cell_type": "code",
   "execution_count": null,
   "id": "bf8eb2aa",
   "metadata": {},
   "outputs": [],
   "source": []
  }
 ],
 "metadata": {
  "kernelspec": {
   "display_name": "Python 3",
   "language": "python",
   "name": "python3"
  },
  "language_info": {
   "codemirror_mode": {
    "name": "ipython",
    "version": 3
   },
   "file_extension": ".py",
   "mimetype": "text/x-python",
   "name": "python",
   "nbconvert_exporter": "python",
   "pygments_lexer": "ipython3",
   "version": "3.10.11"
  }
 },
 "nbformat": 4,
 "nbformat_minor": 5
}
