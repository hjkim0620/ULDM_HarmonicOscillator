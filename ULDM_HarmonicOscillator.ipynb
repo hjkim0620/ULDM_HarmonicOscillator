{
 "cells": [
  {
   "cell_type": "code",
   "execution_count": 54,
   "id": "1cd811b7",
   "metadata": {},
   "outputs": [],
   "source": [
    "import os\n",
    "import h5py\n",
    "import scipy\n",
    "import timeit\n",
    "import pyfftw\n",
    "import numpy as np \n",
    "import matplotlib.pyplot as plt  \n",
    "import matplotlib.ticker as mticker\n",
    "\n",
    "\n",
    "from scipy.fft import fftfreq, fftn, ifftn\n",
    "from matplotlib import animation\n",
    "from scipy.special import k0, k1\n",
    "from tqdm.notebook import tqdm\n",
    "from scipy.interpolate import RegularGridInterpolator\n",
    "from matplotlib.animation import FuncAnimation \n",
    "from matplotlib.animation import PillowWriter\n",
    "from matplotlib.animation import FFMpegWriter\n",
    "\n",
    "plt.rcParams['text.usetex'] = True"
   ]
  },
  {
   "cell_type": "code",
   "execution_count": 55,
   "id": "282a0c11",
   "metadata": {},
   "outputs": [],
   "source": [
    "class ULDM_Simulator():\n",
    "    def __init__(self, dist='Iso_Gaussian', L=5, N=64, eps=1e-5):\n",
    "        '''\n",
    "        dist(str)       : distribution type\n",
    "        L   (scalar)    : Length of the box\n",
    "        N   (scalar)    : Number of grid points in each dimension\n",
    "        eps (scalar)    : 4 pi G m^2 rho / sigma_k^4; related to Jeans wavelength\n",
    "        '''\n",
    "        self.eps = eps  \n",
    "\n",
    "        self.set_grid(L, N)\n",
    "        self.set_steps()\n",
    "    \n",
    "        self.f = self.set_distribution(dist)    \n",
    "        self.set_initial_wavefunction()\n",
    "    \n",
    "    def set_grid(self, L, N):\n",
    "        '''\n",
    "        L (scalar): Length of the box\n",
    "        N (scalar): Number of grid points in each dimension\n",
    "        '''\n",
    "\n",
    "        self.N = N \n",
    "        self.L = L\n",
    "        self.dx = L/N\n",
    "\n",
    "        # Set up the spatial grid\n",
    "        self.X, self.Y, self.Z = np.meshgrid(\n",
    "            np.linspace(-L/2, L/2, N),\n",
    "            np.linspace(-L/2, L/2, N),\n",
    "            np.linspace(-L/2, L/2, N),\n",
    "            indexing='ij'\n",
    "        )\n",
    "\n",
    "        # Set up the Fourier grid\n",
    "        self.KX, self.KY, self.KZ = np.meshgrid(\n",
    "            fftfreq(self.N, self.dx) * 2 * np.pi, \n",
    "            fftfreq(self.N, self.dx) * 2 * np.pi, \n",
    "            fftfreq(self.N, self.dx) * 2 * np.pi,\n",
    "            indexing='ij'\n",
    "        )\n",
    "\n",
    "        # 1 / k^2\n",
    "        self.K2 = self.KX**2 + self.KY**2 + self.KZ**2\n",
    "        self.invK2 = np.divide(1, self.K2, out=np.zeros((self.N, self.N, self.N)), where=(self.K2 !=0))\n",
    "    \n",
    "    def set_steps(self):\n",
    "        self.T = self.L**2 / np.pi\n",
    "        self.nt = self.N**2\n",
    "        self.dt = self.T / self.nt\n",
    "\n",
    "        self.time = np.arange(0, self.T, self.dt)\n",
    "\n",
    "    def set_distribution(self, dist='Iso_Gaussian'):\n",
    "        '''\n",
    "        dist (str): Distribution type\n",
    "        '''\n",
    "        if dist == 'Iso_Gaussian':\n",
    "            return lambda k: (2*np.pi)**1.5*np.exp(-k**2/2)\n",
    "        \n",
    "    def set_initial_wavefunction(self):\n",
    "        self.farr = self.f(np.sqrt(self.KX**2 + self.KY**2 + self.KZ**2))\n",
    "\n",
    "        PSI = np.random.rayleigh(1)\n",
    "        PSI *= 1 / self.L**1.5\n",
    "        PSI *= np.exp(1j * 2 * np.pi * np.random.rand(self.N, self.N, self.N))\n",
    "        PSI *= np.sqrt(self.farr / 2)\n",
    "        \n",
    "        self.psi = ifftn(PSI, norm='forward')                       \n",
    "        self.rhob = self.N**(-3) * np.sum(np.abs(self.psi)**2)    # average density\n",
    "\n",
    "        self.Phi_fourier = fftn( self.eps * (np.abs(self.psi)**2 - self.rhob) ) * self.invK2\n",
    "        self.Phi = np.real(ifftn(self.Phi_fourier))\n",
    "\n",
    "    def evolve(self):\n",
    "        '''\n",
    "        Evolve field according to kick-drift-kick scheme\n",
    "        '''\n",
    "        self.psi *= np.exp(-0.5j * self.Phi * self.dt)  # kick\n",
    "        self.psi = fftn(self.psi)\n",
    "        self.psi *= np.exp(-0.5j * self.K2 * self.dt)   # drift\n",
    "        self.psi = ifftn(self.psi)\n",
    "\n",
    "        self.rhob = self.N**(-3) * np.sum(np.abs(self.psi)**2)\n",
    "\n",
    "        self.Phi_fourier = fftn( self.eps * (np.abs(self.psi)**2 - self.rhob) ) * self.invK2\n",
    "        self.Phi = np.real(ifftn(self.Phi_fourier))\n",
    "\n",
    "        self.psi *= np.exp(-0.5j * self.Phi * self.dt)  # kick\n",
    "    \n",
    "    def solve(self, save_rho=True):\n",
    "        if save_rho == True:\n",
    "            self.rho = []\n",
    "            for i in tqdm(self.time):\n",
    "                self.rho.append((np.abs(self.psi)**2)[0,0,0])\n",
    "                self.evolve()"
   ]
  },
  {
   "cell_type": "code",
   "execution_count": 56,
   "id": "68b68e9a",
   "metadata": {},
   "outputs": [
    {
     "data": {
      "application/vnd.jupyter.widget-view+json": {
       "model_id": "c57f75cec7c7481584fc91b8d21a291a",
       "version_major": 2,
       "version_minor": 0
      },
      "text/plain": [
       "  0%|          | 0/4096 [00:00<?, ?it/s]"
      ]
     },
     "metadata": {},
     "output_type": "display_data"
    }
   ],
   "source": [
    "sim = ULDM_Simulator()\n",
    "sim.solve()"
   ]
  },
  {
   "cell_type": "code",
   "execution_count": 67,
   "id": "7cc79121",
   "metadata": {},
   "outputs": [
    {
     "data": {
      "text/plain": [
       "[<matplotlib.lines.Line2D at 0x13bedf370>]"
      ]
     },
     "execution_count": 67,
     "metadata": {},
     "output_type": "execute_result"
    },
    {
     "data": {
      "image/png": "[encoded data removed]",
      "text/plain": [
       "<Figure size 640x480 with 1 Axes>"
      ]
     },
     "metadata": {},
     "output_type": "display_data"
    }
   ],
   "source": [
    "plt.plot(sim.time, sim.rho)"
   ]
  },
  {
   "cell_type": "code",
   "execution_count": 66,
   "id": "a9e75d08",
   "metadata": {},
   "outputs": [
    {
     "data": {
      "text/plain": [
       "array([0.00000000e+00, 1.94280936e-03, 3.88561873e-03, ...,\n",
       "       7.95191873e+00, 7.95386154e+00, 7.95580435e+00])"
      ]
     },
     "execution_count": 66,
     "metadata": {},
     "output_type": "execute_result"
    }
   ],
   "source": [
    "sim.time"
   ]
  },
  {
   "cell_type": "code",
   "execution_count": 65,
   "id": "2878457d",
   "metadata": {},
   "outputs": [
    {
     "data": {
      "image/png": "[encoded data removed]",
      "text/plain": [
       "<Figure size 640x480 with 1 Axes>"
      ]
     },
     "metadata": {},
     "output_type": "display_data"
    }
   ],
   "source": [
    "plt.plot((np.abs(fftn(sim.rho))**2)[:len(sim.rho)//2],'.')\n",
    "plt.xscale('log')\n",
    "plt.yscale('log')"
   ]
  }
 ],
 "metadata": {
  "kernelspec": {
   "display_name": "Python 3",
   "language": "python",
   "name": "python3"
  },
  "language_info": {
   "codemirror_mode": {
    "name": "ipython",
    "version": 3
   },
   "file_extension": ".py",
   "mimetype": "text/x-python",
   "name": "python",
   "nbconvert_exporter": "python",
   "pygments_lexer": "ipython3",
   "version": "3.10.11"
  }
 },
 "nbformat": 4,
 "nbformat_minor": 5
}
